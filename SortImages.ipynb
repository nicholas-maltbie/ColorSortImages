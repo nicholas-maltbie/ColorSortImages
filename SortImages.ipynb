{
 "cells": [
  {
   "cell_type": "markdown",
   "id": "b3db2e57-3390-49ab-865f-d2e122307c2f",
   "metadata": {},
   "source": [
    "# Sort Images\n",
    "\n",
    "This notebook will set out a basic set of steps to sort images following the set of steps:\n",
    "\n",
    "1. Gather and prepare data\n",
    "1. Identify main colors of images\n",
    "1. Sort colors of images\n",
    "1. Combine images into mosaic using sorting\n"
   ]
  },
  {
   "cell_type": "markdown",
   "id": "299da11b-71c8-452e-bb2d-fdd48b308d5e",
   "metadata": {},
   "source": [
    "# 1. Gather and Prepare Data\n",
    "\n",
    "Gather and prepare all the images for use in the color sorting.\n",
    "\n",
    "_Optional_: include image segmentation to focus on the relevant parts of the image.\n"
   ]
  },
  {
   "cell_type": "code",
   "execution_count": null,
   "id": "39f052a6-a585-4105-b1b2-ff03dc490ef6",
   "metadata": {},
   "outputs": [],
   "source": []
  },
  {
   "cell_type": "markdown",
   "id": "f67e8ad9-a17d-4636-9dc0-37eb6a32f14d",
   "metadata": {},
   "source": [
    "# 2. Identify Main Colors of Images\n",
    "\n",
    "Identify the colors of each image using a K-Means algorithm to\n",
    "find the main colors of images.\n"
   ]
  },
  {
   "cell_type": "code",
   "execution_count": null,
   "id": "0f4d38d3-f099-4d12-99a8-5f5cec1093c3",
   "metadata": {},
   "outputs": [],
   "source": []
  },
  {
   "cell_type": "markdown",
   "id": "2ee76c2c-3f98-4f52-8206-aed26421a9aa",
   "metadata": {},
   "source": [
    "# 3. Sort Images by Color\n",
    "\n",
    "Select the most prominent color of each image and sort them by color.\n"
   ]
  },
  {
   "cell_type": "code",
   "execution_count": null,
   "id": "b35301bd-01bd-44d7-8c23-8707c6db494f",
   "metadata": {},
   "outputs": [],
   "source": []
  },
  {
   "cell_type": "markdown",
   "id": "2fec72f2-cc83-4d68-aea3-829771ccfc1d",
   "metadata": {},
   "source": [
    "# 4. Combine Images into Mosaic\n",
    "\n",
    "Combine the sorted images togther into one large mosaic.\n"
   ]
  },
  {
   "cell_type": "code",
   "execution_count": null,
   "id": "1104a223-ff1a-4418-bad7-0685d7928a0b",
   "metadata": {},
   "outputs": [],
   "source": []
  }
 ],
 "metadata": {
  "kernelspec": {
   "display_name": "Python 3 (ipykernel)",
   "language": "python",
   "name": "python3"
  },
  "language_info": {
   "codemirror_mode": {
    "name": "ipython",
    "version": 3
   },
   "file_extension": ".py",
   "mimetype": "text/x-python",
   "name": "python",
   "nbconvert_exporter": "python",
   "pygments_lexer": "ipython3",
   "version": "3.10.4"
  }
 },
 "nbformat": 4,
 "nbformat_minor": 5
}
